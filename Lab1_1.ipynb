{
 "cells": [
  {
   "cell_type": "code",
   "execution_count": 1,
   "metadata": {},
   "outputs": [
    {
     "name": "stdout",
     "output_type": "stream",
     "text": [
      "in comparison to dogs, cats have not undergone major changes during the domestication process.\n",
      "as cat simply catenates streams of bytes, it can be also used to concatenate binary files, where it will just concatenate sequence of bytes.\n",
      "a common interactive use of cat for a single file is to output the content of a file to standard output.\n",
      "cats can hear sounds too faint or too high in frequency for human ears, such as those made by mice and other small animals.\n",
      "in one, people deliberately tamed cats in a process of artificial selection, as they were useful predators of vermin.\n",
      "the domesticated cat and its closest wild ancestor are both diploid organisms that possess 38 chromosomes and roughly 20,000 genes.\n",
      "domestic cats are similar in size to the other members of the genus felis, typically weighing between 4 and 5 kg (8.8 and 11.0 lb).\n",
      "however, if the output is piped or redirected, cat is unnecessary.\n",
      "cat with one named file is safer where human error is a concern - one wrong use of the default redirection symbol \">\" instead of \"<\" (often adjacent on keyboards) may permanently delete the file you were just needing to read.\n",
      "in terms of legibility, a sequence of commands starting with cat and connected by pipes has a clear left-to-right flow of information.\n",
      "cat command is one of the basic commands that you learned when you started in the unix / linux world.\n",
      "using cat command, the lines received from stdin can be redirected to a new file using redirection symbols.\n",
      "when you type simply cat command without any arguments, it just receives the stdin content and displays it in the stdout.\n",
      "leopard was released on october 26, 2007 as the successor of tiger (version 10.4), and is available in two editions.\n",
      "according to apple, leopard contains over 300 changes and enhancements over its predecessor, mac os x tiger.\n",
      "as of mid 2010, some apple computers have firmware factory installed which will no longer allow installation of mac os x leopard.\n",
      "since apple moved to using intel processors in their computers, the osx86 community has developed and now also allows mac os x tiger and later releases to be installed on non-apple x86-based computers.\n",
      "os x mountain lion was released on july 25, 2012 for purchase and download through apple's mac app store, as part of a switch to releasing os x versions online and every year.\n",
      "apple has released a small patch for the three most recent versions of safari running on os x yosemite, mavericks, and mountain lion.\n",
      "the mountain lion release marks the second time apple has offered an incremental upgrade, rather than releasing a new cat entirely.\n",
      "mac os x mountain lion installs in place, so you won't need to create a separate disk or run the installation off an external drive.\n",
      "the fifth major update to mac os x, leopard, contains such a mountain of features - more than 300 by apple's count.\n"
     ]
    }
   ],
   "source": [
    "file = open(\"sentences.txt\", \"r+\")\n",
    "text = file.read()\n",
    "file.close();\n",
    "text = text.lower()\n",
    "print(text)"
   ]
  },
  {
   "cell_type": "code",
   "execution_count": 2,
   "metadata": {},
   "outputs": [
    {
     "name": "stdout",
     "output_type": "stream",
     "text": [
      "['in comparison to dogs, cats have not undergone major changes during the domestication process.', 'as cat simply catenates streams of bytes, it can be also used to concatenate binary files, where it will just concatenate sequence of bytes.', 'a common interactive use of cat for a single file is to output the content of a file to standard output.', 'cats can hear sounds too faint or too high in frequency for human ears, such as those made by mice and other small animals.', 'in one, people deliberately tamed cats in a process of artificial selection, as they were useful predators of vermin.', 'the domesticated cat and its closest wild ancestor are both diploid organisms that possess 38 chromosomes and roughly 20,000 genes.', 'domestic cats are similar in size to the other members of the genus felis, typically weighing between 4 and 5 kg (8.8 and 11.0 lb).', 'however, if the output is piped or redirected, cat is unnecessary.', 'cat with one named file is safer where human error is a concern - one wrong use of the default redirection symbol \">\" instead of \"<\" (often adjacent on keyboards) may permanently delete the file you were just needing to read.', 'in terms of legibility, a sequence of commands starting with cat and connected by pipes has a clear left-to-right flow of information.', 'cat command is one of the basic commands that you learned when you started in the unix / linux world.', 'using cat command, the lines received from stdin can be redirected to a new file using redirection symbols.', 'when you type simply cat command without any arguments, it just receives the stdin content and displays it in the stdout.', 'leopard was released on october 26, 2007 as the successor of tiger (version 10.4), and is available in two editions.', 'according to apple, leopard contains over 300 changes and enhancements over its predecessor, mac os x tiger.', 'as of mid 2010, some apple computers have firmware factory installed which will no longer allow installation of mac os x leopard.', 'since apple moved to using intel processors in their computers, the osx86 community has developed and now also allows mac os x tiger and later releases to be installed on non-apple x86-based computers.', \"os x mountain lion was released on july 25, 2012 for purchase and download through apple's mac app store, as part of a switch to releasing os x versions online and every year.\", 'apple has released a small patch for the three most recent versions of safari running on os x yosemite, mavericks, and mountain lion.', 'the mountain lion release marks the second time apple has offered an incremental upgrade, rather than releasing a new cat entirely.', \"mac os x mountain lion installs in place, so you won't need to create a separate disk or run the installation off an external drive.\", \"the fifth major update to mac os x, leopard, contains such a mountain of features - more than 300 by apple's count.\"]\n",
      " \n",
      "[['in', 'comparison', 'to', 'dogs', '', 'cats', 'have', 'not', 'undergone', 'major', 'changes', 'during', 'the', 'domestication', 'process', ''], ['as', 'cat', 'simply', 'catenates', 'streams', 'of', 'bytes', '', 'it', 'can', 'be', 'also', 'used', 'to', 'concatenate', 'binary', 'files', '', 'where', 'it', 'will', 'just', 'concatenate', 'sequence', 'of', 'bytes', ''], ['a', 'common', 'interactive', 'use', 'of', 'cat', 'for', 'a', 'single', 'file', 'is', 'to', 'output', 'the', 'content', 'of', 'a', 'file', 'to', 'standard', 'output', ''], ['cats', 'can', 'hear', 'sounds', 'too', 'faint', 'or', 'too', 'high', 'in', 'frequency', 'for', 'human', 'ears', '', 'such', 'as', 'those', 'made', 'by', 'mice', 'and', 'other', 'small', 'animals', ''], ['in', 'one', '', 'people', 'deliberately', 'tamed', 'cats', 'in', 'a', 'process', 'of', 'artificial', 'selection', '', 'as', 'they', 'were', 'useful', 'predators', 'of', 'vermin', ''], ['the', 'domesticated', 'cat', 'and', 'its', 'closest', 'wild', 'ancestor', 'are', 'both', 'diploid', 'organisms', 'that', 'possess', '', '', '', 'chromosomes', 'and', 'roughly', '', '', '', '', '', '', '', 'genes', ''], ['domestic', 'cats', 'are', 'similar', 'in', 'size', 'to', 'the', 'other', 'members', 'of', 'the', 'genus', 'felis', '', 'typically', 'weighing', 'between', '', '', 'and', '', '', 'kg', '', '', '', '', '', 'and', '', '', '', '', '', 'lb', '', ''], ['however', '', 'if', 'the', 'output', 'is', 'piped', 'or', 'redirected', '', 'cat', 'is', 'unnecessary', ''], ['cat', 'with', 'one', 'named', 'file', 'is', 'safer', 'where', 'human', 'error', 'is', 'a', 'concern', '', '', 'one', 'wrong', 'use', 'of', 'the', 'default', 'redirection', 'symbol', '', '', '', '', 'instead', 'of', '', '', '', '', '', 'often', 'adjacent', 'on', 'keyboards', '', 'may', 'permanently', 'delete', 'the', 'file', 'you', 'were', 'just', 'needing', 'to', 'read', ''], ['in', 'terms', 'of', 'legibility', '', 'a', 'sequence', 'of', 'commands', 'starting', 'with', 'cat', 'and', 'connected', 'by', 'pipes', 'has', 'a', 'clear', 'left', 'to', 'right', 'flow', 'of', 'information', ''], ['cat', 'command', 'is', 'one', 'of', 'the', 'basic', 'commands', 'that', 'you', 'learned', 'when', 'you', 'started', 'in', 'the', 'unix', '', '', 'linux', 'world', ''], ['using', 'cat', 'command', '', 'the', 'lines', 'received', 'from', 'stdin', 'can', 'be', 'redirected', 'to', 'a', 'new', 'file', 'using', 'redirection', 'symbols', ''], ['when', 'you', 'type', 'simply', 'cat', 'command', 'without', 'any', 'arguments', '', 'it', 'just', 'receives', 'the', 'stdin', 'content', 'and', 'displays', 'it', 'in', 'the', 'stdout', ''], ['leopard', 'was', 'released', 'on', 'october', '', '', '', '', '', '', '', '', '', 'as', 'the', 'successor', 'of', 'tiger', '', 'version', '', '', '', '', '', '', '', 'and', 'is', 'available', 'in', 'two', 'editions', ''], ['according', 'to', 'apple', '', 'leopard', 'contains', 'over', '', '', '', '', 'changes', 'and', 'enhancements', 'over', 'its', 'predecessor', '', 'mac', 'os', 'x', 'tiger', ''], ['as', 'of', 'mid', '', '', '', '', '', '', 'some', 'apple', 'computers', 'have', 'firmware', 'factory', 'installed', 'which', 'will', 'no', 'longer', 'allow', 'installation', 'of', 'mac', 'os', 'x', 'leopard', ''], ['since', 'apple', 'moved', 'to', 'using', 'intel', 'processors', 'in', 'their', 'computers', '', 'the', 'osx', '', '', 'community', 'has', 'developed', 'and', 'now', 'also', 'allows', 'mac', 'os', 'x', 'tiger', 'and', 'later', 'releases', 'to', 'be', 'installed', 'on', 'non', 'apple', 'x', '', '', 'based', 'computers', ''], ['os', 'x', 'mountain', 'lion', 'was', 'released', 'on', 'july', '', '', '', '', '', '', '', '', '', 'for', 'purchase', 'and', 'download', 'through', 'apple', 's', 'mac', 'app', 'store', '', 'as', 'part', 'of', 'a', 'switch', 'to', 'releasing', 'os', 'x', 'versions', 'online', 'and', 'every', 'year', ''], ['apple', 'has', 'released', 'a', 'small', 'patch', 'for', 'the', 'three', 'most', 'recent', 'versions', 'of', 'safari', 'running', 'on', 'os', 'x', 'yosemite', '', 'mavericks', '', 'and', 'mountain', 'lion', ''], ['the', 'mountain', 'lion', 'release', 'marks', 'the', 'second', 'time', 'apple', 'has', 'offered', 'an', 'incremental', 'upgrade', '', 'rather', 'than', 'releasing', 'a', 'new', 'cat', 'entirely', ''], ['mac', 'os', 'x', 'mountain', 'lion', 'installs', 'in', 'place', '', 'so', 'you', 'won', 't', 'need', 'to', 'create', 'a', 'separate', 'disk', 'or', 'run', 'the', 'installation', 'off', 'an', 'external', 'drive', ''], ['the', 'fifth', 'major', 'update', 'to', 'mac', 'os', 'x', '', 'leopard', '', 'contains', 'such', 'a', 'mountain', 'of', 'features', '', '', 'more', 'than', '', '', '', '', 'by', 'apple', 's', 'count', '']]\n"
     ]
    }
   ],
   "source": [
    "# import nltk\n",
    "import re\n",
    "# from nltk.tokenize import RegexpTokenizer\n",
    "\n",
    "strings = text.split('\\n')\n",
    "print(strings)\n",
    "\n",
    "# tokenizer = RegexpTokenizer('[a-z]\\w+')\n",
    "tokens = []\n",
    "\n",
    "for i in strings:\n",
    "#     string = tokenizer.tokenize(i)\n",
    "    string = re.split('[^a-z]', i)\n",
    "    tokens.append(string)\n",
    "                  \n",
    "print(\" \")\n",
    "print(tokens)"
   ]
  },
  {
   "cell_type": "code",
   "execution_count": 3,
   "metadata": {},
   "outputs": [
    {
     "name": "stdout",
     "output_type": "stream",
     "text": [
      "{'in': 0, 'comparison': 1, 'to': 2, 'dogs': 3, '': 4, 'cats': 5, 'have': 6, 'not': 7, 'undergone': 8, 'major': 9, 'changes': 10, 'during': 11, 'the': 12, 'domestication': 13, 'process': 14, 'as': 15, 'cat': 16, 'simply': 17, 'catenates': 18, 'streams': 19, 'of': 20, 'bytes': 21, 'it': 22, 'can': 23, 'be': 24, 'also': 25, 'used': 26, 'concatenate': 27, 'binary': 28, 'files': 29, 'where': 30, 'will': 31, 'just': 32, 'sequence': 33, 'a': 34, 'common': 35, 'interactive': 36, 'use': 37, 'for': 38, 'single': 39, 'file': 40, 'is': 41, 'output': 42, 'content': 43, 'standard': 44, 'hear': 45, 'sounds': 46, 'too': 47, 'faint': 48, 'or': 49, 'high': 50, 'frequency': 51, 'human': 52, 'ears': 53, 'such': 54, 'those': 55, 'made': 56, 'by': 57, 'mice': 58, 'and': 59, 'other': 60, 'small': 61, 'animals': 62, 'one': 63, 'people': 64, 'deliberately': 65, 'tamed': 66, 'artificial': 67, 'selection': 68, 'they': 69, 'were': 70, 'useful': 71, 'predators': 72, 'vermin': 73, 'domesticated': 74, 'its': 75, 'closest': 76, 'wild': 77, 'ancestor': 78, 'are': 79, 'both': 80, 'diploid': 81, 'organisms': 82, 'that': 83, 'possess': 84, 'chromosomes': 85, 'roughly': 86, 'genes': 87, 'domestic': 88, 'similar': 89, 'size': 90, 'members': 91, 'genus': 92, 'felis': 93, 'typically': 94, 'weighing': 95, 'between': 96, 'kg': 97, 'lb': 98, 'however': 99, 'if': 100, 'piped': 101, 'redirected': 102, 'unnecessary': 103, 'with': 104, 'named': 105, 'safer': 106, 'error': 107, 'concern': 108, 'wrong': 109, 'default': 110, 'redirection': 111, 'symbol': 112, 'instead': 113, 'often': 114, 'adjacent': 115, 'on': 116, 'keyboards': 117, 'may': 118, 'permanently': 119, 'delete': 120, 'you': 121, 'needing': 122, 'read': 123, 'terms': 124, 'legibility': 125, 'commands': 126, 'starting': 127, 'connected': 128, 'pipes': 129, 'has': 130, 'clear': 131, 'left': 132, 'right': 133, 'flow': 134, 'information': 135, 'command': 136, 'basic': 137, 'learned': 138, 'when': 139, 'started': 140, 'unix': 141, 'linux': 142, 'world': 143, 'using': 144, 'lines': 145, 'received': 146, 'from': 147, 'stdin': 148, 'new': 149, 'symbols': 150, 'type': 151, 'without': 152, 'any': 153, 'arguments': 154, 'receives': 155, 'displays': 156, 'stdout': 157, 'leopard': 158, 'was': 159, 'released': 160, 'october': 161, 'successor': 162, 'tiger': 163, 'version': 164, 'available': 165, 'two': 166, 'editions': 167, 'according': 168, 'apple': 169, 'contains': 170, 'over': 171, 'enhancements': 172, 'predecessor': 173, 'mac': 174, 'os': 175, 'x': 176, 'mid': 177, 'some': 178, 'computers': 179, 'firmware': 180, 'factory': 181, 'installed': 182, 'which': 183, 'no': 184, 'longer': 185, 'allow': 186, 'installation': 187, 'since': 188, 'moved': 189, 'intel': 190, 'processors': 191, 'their': 192, 'osx': 193, 'community': 194, 'developed': 195, 'now': 196, 'allows': 197, 'later': 198, 'releases': 199, 'non': 200, 'based': 201, 'mountain': 202, 'lion': 203, 'july': 204, 'purchase': 205, 'download': 206, 'through': 207, 's': 208, 'app': 209, 'store': 210, 'part': 211, 'switch': 212, 'releasing': 213, 'versions': 214, 'online': 215, 'every': 216, 'year': 217, 'patch': 218, 'three': 219, 'most': 220, 'recent': 221, 'safari': 222, 'running': 223, 'yosemite': 224, 'mavericks': 225, 'release': 226, 'marks': 227, 'second': 228, 'time': 229, 'offered': 230, 'an': 231, 'incremental': 232, 'upgrade': 233, 'rather': 234, 'than': 235, 'entirely': 236, 'installs': 237, 'place': 238, 'so': 239, 'won': 240, 't': 241, 'need': 242, 'create': 243, 'separate': 244, 'disk': 245, 'run': 246, 'off': 247, 'external': 248, 'drive': 249, 'fifth': 250, 'update': 251, 'features': 252, 'more': 253, 'count': 254}\n"
     ]
    }
   ],
   "source": [
    "words = {}\n",
    "k = 0\n",
    "for i in tokens:\n",
    "    for j in i:\n",
    "        if not (j in words.keys()):\n",
    "            words.update({j: k})\n",
    "            k += 1\n",
    "\n",
    "print(words)"
   ]
  },
  {
   "cell_type": "code",
   "execution_count": 4,
   "metadata": {},
   "outputs": [
    {
     "name": "stdout",
     "output_type": "stream",
     "text": [
      "22\n",
      "255\n",
      "613\n",
      "[[ 1.  1.  1. ...,  0.  0.  0.]\n",
      " [ 0.  0.  1. ...,  0.  0.  0.]\n",
      " [ 0.  0.  2. ...,  0.  0.  0.]\n",
      " ..., \n",
      " [ 0.  0.  0. ...,  0.  0.  0.]\n",
      " [ 1.  0.  1. ...,  0.  0.  0.]\n",
      " [ 0.  0.  1. ...,  1.  1.  1.]]\n"
     ]
    }
   ],
   "source": [
    "import numpy\n",
    "\n",
    "# array = [[0] * len(words)] * len(tokens)\n",
    "array = numpy.zeros((len(tokens), len(words)))\n",
    "\n",
    "print(len(tokens))\n",
    "print(len(words))\n",
    "#print(array)\n",
    "\n",
    "count = 0\n",
    "for i, sentence in enumerate(tokens):\n",
    "    for word in sentence:\n",
    "        array[i][words.get(word)] += 1\n",
    "        count += 1\n",
    "\n",
    "print(count)\n",
    "print(array)"
   ]
  },
  {
   "cell_type": "code",
   "execution_count": 5,
   "metadata": {},
   "outputs": [
    {
     "name": "stdout",
     "output_type": "stream",
     "text": [
      "bottomA =  4.242640687119285\n",
      "[1, 0.2576735608413086, 0.19641855032959654, 0.25819888974716115, 0.41666666666666669, 0.45654335620115055, 0.51875647490395449, 0.35176323534072423, 0.46401484871274212, 0.23570226039551584, 0.375, 0.28867513459481292, 0.30638167667268601, 0.48503173467607302, 0.46072982697672543, 0.41666666666666674, 0.41902624070313932, 0.429925318137234, 0.29166666666666669, 0.27216552697590868, 0.30123203803835463, 0.49009802940980352]\n",
      "The closest sentence is number 7 . The second closest is number 6\n"
     ]
    }
   ],
   "source": [
    "import math\n",
    "distances = [1]\n",
    "\n",
    "bottomA = 0\n",
    "for i in range(0, len(words)):\n",
    "    bottomA += array[0][i] * array[0][i]\n",
    "    \n",
    "bottomA = math.sqrt(bottomA)\n",
    "print(\"bottomA = \", bottomA)\n",
    "\n",
    "for i in range(1, len(tokens)):\n",
    "    top = 0\n",
    "    bottomB = 0\n",
    "    \n",
    "    for j in range(0, len(words)):\n",
    "        top += array[0][j] * array[i][j]\n",
    "        bottomB += array[i][j] * array[i][j]\n",
    "        \n",
    "    bottomB = math.sqrt(bottomB)\n",
    "    ans = top / (bottomA*bottomB)\n",
    "    distances.append(ans)\n",
    "    \n",
    "print(distances)\n",
    "\n",
    "max1 = -1\n",
    "max2 = -1\n",
    "ind1 = -1\n",
    "ind2 = -1\n",
    "for i in range(1, len(tokens)):\n",
    "    if distances[i] >= max1:\n",
    "        max2 = max1\n",
    "        ind2 = ind1\n",
    "        max1 = distances[i]\n",
    "        ind1 = i\n",
    "        \n",
    "print(\"The closest sentence is number\", ind1 + 1, \". The second closest is number\", ind2 + 1)\n"
   ]
  },
  {
   "cell_type": "code",
   "execution_count": null,
   "metadata": {
    "collapsed": true
   },
   "outputs": [],
   "source": []
  }
 ],
 "metadata": {
  "kernelspec": {
   "display_name": "Python 3",
   "language": "python",
   "name": "python3"
  },
  "language_info": {
   "codemirror_mode": {
    "name": "ipython",
    "version": 3
   },
   "file_extension": ".py",
   "mimetype": "text/x-python",
   "name": "python",
   "nbconvert_exporter": "python",
   "pygments_lexer": "ipython3",
   "version": "3.6.3"
  }
 },
 "nbformat": 4,
 "nbformat_minor": 2
}
